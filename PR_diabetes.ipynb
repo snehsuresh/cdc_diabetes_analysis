{
 "cells": [
  {
   "cell_type": "code",
   "execution_count": 44,
   "id": "1e6e66c2",
   "metadata": {},
   "outputs": [],
   "source": [
    "import numpy as np\n",
    "import matplotlib.pyplot as plt\n",
    "import pandas as pd"
   ]
  },
  {
   "cell_type": "code",
   "execution_count": 45,
   "id": "0bb3cec5",
   "metadata": {},
   "outputs": [],
   "source": [
    "data_inactivity = pd.read_csv('inactivity.csv', usecols=['FIPS', '% INACTIVE']) #FIPDS\n",
    "data_obesity = pd.read_csv('obesity.csv', usecols=['FIPS', '% OBESE'])\n",
    "data_diabetes = pd.read_csv('diabetes.csv', usecols=['FIPS', '% DIABETIC',])\n",
    "\n",
    "inac_ob = pd.merge(data_inactivity, data_obesity, on='FIPS', how='inner')\n",
    "\n",
    "dataset = pd.merge(inac_ob, data_diabetes, on='FIPS', how='inner')\n",
    "\n"
   ]
  },
  {
   "cell_type": "code",
   "execution_count": 46,
   "id": "62d6fa4a",
   "metadata": {},
   "outputs": [],
   "source": [
    "obes_data = data_obesity.iloc[:, 1].values #All rows, 1st column \n",
    "diab_data = data_diabetes.iloc[:, 1].values #All rows, 1st column \n",
    "inac_data = data_inactivity.iloc[:, 1].values #All rows, 1st column "
   ]
  },
  {
   "cell_type": "code",
   "execution_count": 47,
   "id": "4a09b5da",
   "metadata": {},
   "outputs": [
    {
     "name": "stdout",
     "output_type": "stream",
     "text": [
      "\n",
      "\n",
      "First Quartile for inac\t : 15.0\n",
      "Median for inac\t : 16.7\n",
      "Third Quartile for inac\t : 18.1\n",
      "IQR for inac\t : 3.1000000000000014\n",
      "Lowerbound for inac\t : 10.349999999999998\n",
      "Upper bound for inac\t : 19.650000000000002\n",
      "\n",
      "\n",
      "First Quartile for obes\t : 17.9\n",
      "Median for obes\t : 18.3\n",
      "Third Quartile for obes\t : 19.0\n",
      "IQR for obes\t : 1.1000000000000014\n",
      "Lowerbound for obes\t : 16.249999999999996\n",
      "Upper bound for obes\t : 19.55\n",
      "\n",
      "\n",
      "First Quartile for diab\t : 7.3\n",
      "Median for diab\t : 8.4\n",
      "Third Quartile for diab\t : 9.7\n",
      "IQR for diab\t : 2.3999999999999995\n",
      "Lowerbound for diab\t : 3.7000000000000006\n",
      "Upper bound for diab\t : 10.899999999999999\n"
     ]
    }
   ],
   "source": [
    "q1_inac = np.percentile(inac_data, 25)\n",
    "q1_obes = np.percentile(obes_data, 25)\n",
    "q1_diab = np.percentile(diab_data, 25)\n",
    "\n",
    "median_inac = np.percentile(inac_data, 50)\n",
    "median_obes = np.percentile(obes_data, 50)\n",
    "median_diab = np.percentile(diab_data, 50)\n",
    "\n",
    "q3_inac = np.percentile(inac_data, 75)\n",
    "q3_obes = np.percentile(obes_data, 75)\n",
    "q3_diab = np.percentile(diab_data, 75)\n",
    "\n",
    "iqr_inac = q3_inac - q1_inac\n",
    "iqr_obes = q3_obes - q1_obes\n",
    "iqr_diab = q3_diab - q1_diab\n",
    "\n",
    "lower_bound_inac = q1_inac - 1.5 * iqr_inac\n",
    "lower_bound_obes = q1_obes - 1.5 * iqr_obes\n",
    "lower_bound_diab = q1_diab - 1.5 * iqr_diab\n",
    "\n",
    "upper_bound_inac = q1_inac + 1.5 * iqr_inac\n",
    "upper_bound_obes = q1_obes + 1.5 * iqr_obes\n",
    "upper_bound_diab = q1_diab + 1.5 * iqr_diab\n",
    "\n",
    "for i in [\"inac\",\"obes\", \"diab\"]:\n",
    "    print('\\n')\n",
    "    print(\"First Quartile for \" + i + \"\\t :\", locals()[f\"q1_{i}\"])\n",
    "    print(\"Median for \" + i + \"\\t :\", locals()[f\"median_{i}\"])\n",
    "    print(\"Third Quartile for \" + i+ \"\\t :\", locals()[f\"q3_{i}\"])\n",
    "    print(\"IQR for \" + i+ \"\\t :\", locals()[f\"iqr_{i}\"])\n",
    "    print(\"Lowerbound for \" + i+ \"\\t :\", locals()[f\"lower_bound_{i}\"])\n",
    "    print(\"Upper bound for \" + i+ \"\\t :\", locals()[f\"upper_bound_{i}\"])\n",
    "\n",
    "# outliers = (data < lower_bound) | (data > upper_bound)\n",
    "# filtered_inactivity_data = data[~outliers]\n",
    "# This code calculates the five-number summary, computes the IQR, and filters out potential outliers based on a chosen threshold (in this case, 1.5 times the IQR). Adjust the threshold as needed based on the characteristics of your data and your goals for outlier removal.\n",
    "\n"
   ]
  },
  {
   "cell_type": "code",
   "execution_count": 75,
   "id": "1b74d1e3",
   "metadata": {},
   "outputs": [
    {
     "name": "stdout",
     "output_type": "stream",
     "text": [
      "0      False\n",
      "1      False\n",
      "2      False\n",
      "3      False\n",
      "4      False\n",
      "       ...  \n",
      "349    False\n",
      "350    False\n",
      "351    False\n",
      "352    False\n",
      "353    False\n",
      "Name: % INACTIVE, Length: 354, dtype: bool\n",
      "0      False\n",
      "1      False\n",
      "2      False\n",
      "3      False\n",
      "4      False\n",
      "       ...  \n",
      "349    False\n",
      "350    False\n",
      "351    False\n",
      "352    False\n",
      "353     True\n",
      "Name: % OBESE, Length: 354, dtype: bool\n",
      "0      False\n",
      "1      False\n",
      "2      False\n",
      "3      False\n",
      "4      False\n",
      "       ...  \n",
      "349    False\n",
      "350    False\n",
      "351    False\n",
      "352    False\n",
      "353    False\n",
      "Name: % DIABETIC, Length: 354, dtype: bool\n",
      "0      False\n",
      "1      False\n",
      "2      False\n",
      "3      False\n",
      "4      False\n",
      "       ...  \n",
      "349    False\n",
      "350    False\n",
      "351    False\n",
      "352    False\n",
      "353     True\n",
      "Length: 354, dtype: bool\n"
     ]
    },
    {
     "data": {
      "text/html": [
       "<div>\n",
       "<style scoped>\n",
       "    .dataframe tbody tr th:only-of-type {\n",
       "        vertical-align: middle;\n",
       "    }\n",
       "\n",
       "    .dataframe tbody tr th {\n",
       "        vertical-align: top;\n",
       "    }\n",
       "\n",
       "    .dataframe thead th {\n",
       "        text-align: right;\n",
       "    }\n",
       "</style>\n",
       "<table border=\"1\" class=\"dataframe\">\n",
       "  <thead>\n",
       "    <tr style=\"text-align: right;\">\n",
       "      <th></th>\n",
       "      <th>FIPS</th>\n",
       "      <th>% INACTIVE</th>\n",
       "      <th>% OBESE</th>\n",
       "      <th>% DIABETIC</th>\n",
       "    </tr>\n",
       "  </thead>\n",
       "  <tbody>\n",
       "    <tr>\n",
       "      <th>0</th>\n",
       "      <td>1011</td>\n",
       "      <td>17.0</td>\n",
       "      <td>18.7</td>\n",
       "      <td>9.4</td>\n",
       "    </tr>\n",
       "    <tr>\n",
       "      <th>1</th>\n",
       "      <td>2068</td>\n",
       "      <td>16.2</td>\n",
       "      <td>18.9</td>\n",
       "      <td>6.8</td>\n",
       "    </tr>\n",
       "    <tr>\n",
       "      <th>2</th>\n",
       "      <td>2105</td>\n",
       "      <td>15.0</td>\n",
       "      <td>19.4</td>\n",
       "      <td>7.3</td>\n",
       "    </tr>\n",
       "    <tr>\n",
       "      <th>3</th>\n",
       "      <td>2195</td>\n",
       "      <td>17.8</td>\n",
       "      <td>17.2</td>\n",
       "      <td>9.2</td>\n",
       "    </tr>\n",
       "    <tr>\n",
       "      <th>4</th>\n",
       "      <td>2230</td>\n",
       "      <td>15.8</td>\n",
       "      <td>18.3</td>\n",
       "      <td>6.6</td>\n",
       "    </tr>\n",
       "    <tr>\n",
       "      <th>...</th>\n",
       "      <td>...</td>\n",
       "      <td>...</td>\n",
       "      <td>...</td>\n",
       "      <td>...</td>\n",
       "    </tr>\n",
       "    <tr>\n",
       "      <th>348</th>\n",
       "      <td>51181</td>\n",
       "      <td>15.7</td>\n",
       "      <td>19.0</td>\n",
       "      <td>7.9</td>\n",
       "    </tr>\n",
       "    <tr>\n",
       "      <th>349</th>\n",
       "      <td>51820</td>\n",
       "      <td>16.6</td>\n",
       "      <td>19.5</td>\n",
       "      <td>8.6</td>\n",
       "    </tr>\n",
       "    <tr>\n",
       "      <th>350</th>\n",
       "      <td>51830</td>\n",
       "      <td>15.7</td>\n",
       "      <td>18.0</td>\n",
       "      <td>8.5</td>\n",
       "    </tr>\n",
       "    <tr>\n",
       "      <th>351</th>\n",
       "      <td>51840</td>\n",
       "      <td>16.1</td>\n",
       "      <td>19.4</td>\n",
       "      <td>6.9</td>\n",
       "    </tr>\n",
       "    <tr>\n",
       "      <th>352</th>\n",
       "      <td>53055</td>\n",
       "      <td>11.9</td>\n",
       "      <td>19.3</td>\n",
       "      <td>4.5</td>\n",
       "    </tr>\n",
       "  </tbody>\n",
       "</table>\n",
       "<p>339 rows × 4 columns</p>\n",
       "</div>"
      ],
      "text/plain": [
       "      FIPS  % INACTIVE  % OBESE  % DIABETIC\n",
       "0     1011        17.0     18.7         9.4\n",
       "1     2068        16.2     18.9         6.8\n",
       "2     2105        15.0     19.4         7.3\n",
       "3     2195        17.8     17.2         9.2\n",
       "4     2230        15.8     18.3         6.6\n",
       "..     ...         ...      ...         ...\n",
       "348  51181        15.7     19.0         7.9\n",
       "349  51820        16.6     19.5         8.6\n",
       "350  51830        15.7     18.0         8.5\n",
       "351  51840        16.1     19.4         6.9\n",
       "352  53055        11.9     19.3         4.5\n",
       "\n",
       "[339 rows x 4 columns]"
      ]
     },
     "execution_count": 75,
     "metadata": {},
     "output_type": "execute_result"
    }
   ],
   "source": [
    "inac_column = dataset.iloc[:, 1]  # Extracting the inactivity percentage column\n",
    "obes_column = dataset.iloc[:, 2]\n",
    "diab_column = dataset.iloc[:, 3]\n",
    "# Find outliers indices\n",
    "outliers_inac = (inac_column < lower_bound_inac) | (inac_column > upper_bound_inac)\n",
    "outliers_obes = (obes_column < lower_bound_obes) | (obes_column > upper_bound_obes)\n",
    "outliers_diab = (diab_column < lower_bound_diab) | (diab_column > upper_bound_diab)\n",
    "\n",
    "print(outliers_inac)\n",
    "print(outliers_obes)\n",
    "print(outliers_diab)\n",
    "\n",
    "all_outliers = outliers_inac | outliers_obes | outliers_diab\n",
    "print(all_outliers)\n",
    "\n",
    "# Remove outliers\n",
    "filtered_dataset = dataset.loc[~all_outliers]\n",
    "filtered_dataset"
   ]
  },
  {
   "cell_type": "code",
   "execution_count": null,
   "id": "7b5c98a0",
   "metadata": {},
   "outputs": [],
   "source": []
  },
  {
   "cell_type": "code",
   "execution_count": null,
   "id": "98899236",
   "metadata": {},
   "outputs": [],
   "source": []
  },
  {
   "cell_type": "code",
   "execution_count": null,
   "id": "863eedce",
   "metadata": {},
   "outputs": [],
   "source": []
  },
  {
   "cell_type": "code",
   "execution_count": null,
   "id": "c8425d16",
   "metadata": {},
   "outputs": [],
   "source": []
  },
  {
   "cell_type": "code",
   "execution_count": 49,
   "id": "251aab56",
   "metadata": {},
   "outputs": [],
   "source": [
    "X = filtered_dataset.iloc[:, 1:-1].values\n",
    "y = filtered_dataset.iloc[:, -1].values"
   ]
  },
  {
   "cell_type": "code",
   "execution_count": 50,
   "id": "27ba7c19",
   "metadata": {},
   "outputs": [],
   "source": [
    "from sklearn.model_selection import train_test_split\n",
    "X_train, X_test, y_train, y_test = train_test_split(X, y, test_size = 0.2, random_state = 0)"
   ]
  },
  {
   "cell_type": "code",
   "execution_count": 69,
   "id": "621983bf",
   "metadata": {},
   "outputs": [
    {
     "data": {
      "text/html": [
       "<style>#sk-container-id-12 {color: black;}#sk-container-id-12 pre{padding: 0;}#sk-container-id-12 div.sk-toggleable {background-color: white;}#sk-container-id-12 label.sk-toggleable__label {cursor: pointer;display: block;width: 100%;margin-bottom: 0;padding: 0.3em;box-sizing: border-box;text-align: center;}#sk-container-id-12 label.sk-toggleable__label-arrow:before {content: \"▸\";float: left;margin-right: 0.25em;color: #696969;}#sk-container-id-12 label.sk-toggleable__label-arrow:hover:before {color: black;}#sk-container-id-12 div.sk-estimator:hover label.sk-toggleable__label-arrow:before {color: black;}#sk-container-id-12 div.sk-toggleable__content {max-height: 0;max-width: 0;overflow: hidden;text-align: left;background-color: #f0f8ff;}#sk-container-id-12 div.sk-toggleable__content pre {margin: 0.2em;color: black;border-radius: 0.25em;background-color: #f0f8ff;}#sk-container-id-12 input.sk-toggleable__control:checked~div.sk-toggleable__content {max-height: 200px;max-width: 100%;overflow: auto;}#sk-container-id-12 input.sk-toggleable__control:checked~label.sk-toggleable__label-arrow:before {content: \"▾\";}#sk-container-id-12 div.sk-estimator input.sk-toggleable__control:checked~label.sk-toggleable__label {background-color: #d4ebff;}#sk-container-id-12 div.sk-label input.sk-toggleable__control:checked~label.sk-toggleable__label {background-color: #d4ebff;}#sk-container-id-12 input.sk-hidden--visually {border: 0;clip: rect(1px 1px 1px 1px);clip: rect(1px, 1px, 1px, 1px);height: 1px;margin: -1px;overflow: hidden;padding: 0;position: absolute;width: 1px;}#sk-container-id-12 div.sk-estimator {font-family: monospace;background-color: #f0f8ff;border: 1px dotted black;border-radius: 0.25em;box-sizing: border-box;margin-bottom: 0.5em;}#sk-container-id-12 div.sk-estimator:hover {background-color: #d4ebff;}#sk-container-id-12 div.sk-parallel-item::after {content: \"\";width: 100%;border-bottom: 1px solid gray;flex-grow: 1;}#sk-container-id-12 div.sk-label:hover label.sk-toggleable__label {background-color: #d4ebff;}#sk-container-id-12 div.sk-serial::before {content: \"\";position: absolute;border-left: 1px solid gray;box-sizing: border-box;top: 0;bottom: 0;left: 50%;z-index: 0;}#sk-container-id-12 div.sk-serial {display: flex;flex-direction: column;align-items: center;background-color: white;padding-right: 0.2em;padding-left: 0.2em;position: relative;}#sk-container-id-12 div.sk-item {position: relative;z-index: 1;}#sk-container-id-12 div.sk-parallel {display: flex;align-items: stretch;justify-content: center;background-color: white;position: relative;}#sk-container-id-12 div.sk-item::before, #sk-container-id-12 div.sk-parallel-item::before {content: \"\";position: absolute;border-left: 1px solid gray;box-sizing: border-box;top: 0;bottom: 0;left: 50%;z-index: -1;}#sk-container-id-12 div.sk-parallel-item {display: flex;flex-direction: column;z-index: 1;position: relative;background-color: white;}#sk-container-id-12 div.sk-parallel-item:first-child::after {align-self: flex-end;width: 50%;}#sk-container-id-12 div.sk-parallel-item:last-child::after {align-self: flex-start;width: 50%;}#sk-container-id-12 div.sk-parallel-item:only-child::after {width: 0;}#sk-container-id-12 div.sk-dashed-wrapped {border: 1px dashed gray;margin: 0 0.4em 0.5em 0.4em;box-sizing: border-box;padding-bottom: 0.4em;background-color: white;}#sk-container-id-12 div.sk-label label {font-family: monospace;font-weight: bold;display: inline-block;line-height: 1.2em;}#sk-container-id-12 div.sk-label-container {text-align: center;}#sk-container-id-12 div.sk-container {/* jupyter's `normalize.less` sets `[hidden] { display: none; }` but bootstrap.min.css set `[hidden] { display: none !important; }` so we also need the `!important` here to be able to override the default hidden behavior on the sphinx rendered scikit-learn.org. See: https://github.com/scikit-learn/scikit-learn/issues/21755 */display: inline-block !important;position: relative;}#sk-container-id-12 div.sk-text-repr-fallback {display: none;}</style><div id=\"sk-container-id-12\" class=\"sk-top-container\"><div class=\"sk-text-repr-fallback\"><pre>LinearRegression()</pre><b>In a Jupyter environment, please rerun this cell to show the HTML representation or trust the notebook. <br />On GitHub, the HTML representation is unable to render, please try loading this page with nbviewer.org.</b></div><div class=\"sk-container\" hidden><div class=\"sk-item\"><div class=\"sk-estimator sk-toggleable\"><input class=\"sk-toggleable__control sk-hidden--visually\" id=\"sk-estimator-id-12\" type=\"checkbox\" checked><label for=\"sk-estimator-id-12\" class=\"sk-toggleable__label sk-toggleable__label-arrow\">LinearRegression</label><div class=\"sk-toggleable__content\"><pre>LinearRegression()</pre></div></div></div></div></div>"
      ],
      "text/plain": [
       "LinearRegression()"
      ]
     },
     "execution_count": 69,
     "metadata": {},
     "output_type": "execute_result"
    }
   ],
   "source": [
    "from sklearn.preprocessing import PolynomialFeatures\n",
    "from sklearn.linear_model import LinearRegression\n",
    "poly_reg = PolynomialFeatures(degree = 3)\n",
    "X_poly = poly_reg.fit_transform(X_train)\n",
    "regressor = LinearRegression()\n",
    "regressor.fit(X_poly, y_train)"
   ]
  },
  {
   "cell_type": "code",
   "execution_count": 70,
   "id": "b023528d",
   "metadata": {},
   "outputs": [],
   "source": [
    "y_pred_train = regressor.predict(poly_reg.transform(X_train))\n",
    "y_pred_test = regressor.predict(poly_reg.transform(X_test))\n",
    "# np.set_printoptions(precision=2)\n",
    "# print(np.concatenate((y_pred.reshape(len(y_pred),1), y_test.reshape(len(y_test),1)),1))"
   ]
  },
  {
   "cell_type": "code",
   "execution_count": 71,
   "id": "a2bdcc34",
   "metadata": {},
   "outputs": [
    {
     "data": {
      "text/plain": [
       "Text(0.5, 1.0, 'Actual vs Predicted Diabetes Percentage (Training Data)')"
      ]
     },
     "execution_count": 71,
     "metadata": {},
     "output_type": "execute_result"
    },
    {
     "data": {
      "image/png": "[encoded data removed]",
      "text/plain": [
       "<Figure size 640x480 with 1 Axes>"
      ]
     },
     "metadata": {},
     "output_type": "display_data"
    }
   ],
   "source": [
    "import matplotlib.pyplot as plt\n",
    "\n",
    "plt.scatter(y_train, y_pred_train)\n",
    "plt.xlabel(\"Actual Diabetes\")\n",
    "plt.ylabel(\"Predicted Diabetes percentage\")\n",
    "plt.title(\"Actual vs Predicted Diabetes Percentage (Training Data)\")"
   ]
  },
  {
   "cell_type": "code",
   "execution_count": 72,
   "id": "858db055",
   "metadata": {},
   "outputs": [
    {
     "data": {
      "text/plain": [
       "0.2071205294483034"
      ]
     },
     "execution_count": 72,
     "metadata": {},
     "output_type": "execute_result"
    }
   ],
   "source": [
    "from sklearn.metrics import r2_score\n",
    "r2_score(y_train, y_pred_train)"
   ]
  },
  {
   "cell_type": "code",
   "execution_count": 73,
   "id": "24e06ca9",
   "metadata": {},
   "outputs": [
    {
     "data": {
      "text/plain": [
       "Text(0.5, 1.0, 'Actual vs Predicted Diabetes Percentage (Testing Data)')"
      ]
     },
     "execution_count": 73,
     "metadata": {},
     "output_type": "execute_result"
    },
    {
     "data": {
      "image/png": "[encoded data removed]",
      "text/plain": [
       "<Figure size 640x480 with 1 Axes>"
      ]
     },
     "metadata": {},
     "output_type": "display_data"
    }
   ],
   "source": [
    "plt.scatter(y_test, y_pred_test)\n",
    "plt.xlabel(\"Actual Diabetes\")\n",
    "plt.ylabel(\"Predicted Diabetes percentage\")\n",
    "plt.title(\"Actual vs Predicted Diabetes Percentage (Testing Data)\")"
   ]
  },
  {
   "cell_type": "code",
   "execution_count": 74,
   "id": "80f57a2f",
   "metadata": {},
   "outputs": [
    {
     "data": {
      "text/plain": [
       "0.3443396860438963"
      ]
     },
     "execution_count": 74,
     "metadata": {},
     "output_type": "execute_result"
    }
   ],
   "source": [
    "from sklearn.metrics import r2_score\n",
    "r2_score(y_test, y_pred_test)"
   ]
  },
  {
   "cell_type": "code",
   "execution_count": null,
   "id": "185467ae",
   "metadata": {},
   "outputs": [],
   "source": []
  }
 ],
 "metadata": {
  "kernelspec": {
   "display_name": "Python 3 (ipykernel)",
   "language": "python",
   "name": "python3"
  },
  "language_info": {
   "codemirror_mode": {
    "name": "ipython",
    "version": 3
   },
   "file_extension": ".py",
   "mimetype": "text/x-python",
   "name": "python",
   "nbconvert_exporter": "python",
   "pygments_lexer": "ipython3",
   "version": "3.9.6"
  }
 },
 "nbformat": 4,
 "nbformat_minor": 5
}
